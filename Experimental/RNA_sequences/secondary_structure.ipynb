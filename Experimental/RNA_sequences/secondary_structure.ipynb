{
 "cells": [
  {
   "cell_type": "markdown",
   "metadata": {},
   "source": [
    "### Secondary structures consensous"
   ]
  },
  {
   "cell_type": "code",
   "execution_count": 16,
   "metadata": {},
   "outputs": [],
   "source": [
    "import glob\n",
    "from collections import Counter\n",
    "\n",
    "rna_seq = {}\n",
    "\n",
    "for filename in glob.glob('*_rna.fasta'):\n",
    "    with open(filename, 'r') as f:\n",
    "        for line in f:\n",
    "            if line.startswith('>'):\n",
    "                continue\n",
    "            else:\n",
    "                rna_seq[filename] = line.strip()\n",
    "\n",
    "posicion_final = 480\n",
    "\n",
    "rna_struct = {}\n",
    "rna_segmentos = {}\n",
    "\n",
    "segmentos = {\n",
    "    'SL1': (7, 33), \n",
    "    'SL2': (45, 59), \n",
    "    'SL23': (45, 75),\n",
    "    'SL3': (61, 75), \n",
    "    'SL4': (84, 127),\n",
    "    'SL1234': (7, 127),\n",
    "} \n",
    "\n",
    "for filename in glob.glob('*.ss'):\n",
    "    with open(filename, 'r') as f:\n",
    "        for line in f:\n",
    "            if line.startswith('nt'):\n",
    "                inicio, fin = map(int, line.split()[1].split('-'))\n",
    "                secuencia = ['*'] * (inicio - 1)\n",
    "            else:\n",
    "                secuencia.extend(list(line.strip()))\n",
    "                secuencia.extend(['*'] * (posicion_final - len(secuencia)))\n",
    "                rna_struct[filename] = secuencia\n",
    "                rna_segmentos[filename] = {nombre: secuencia[inicio-1:fin] for nombre, (inicio, fin) in segmentos.items()}\n",
    "\n",
    "with open('rna_struct.txt', 'w') as f:\n",
    "    for filename, secuencia in rna_struct.items():\n",
    "        f.write(f'{filename}:\\n\\tfull seq: {\"\".join(secuencia)}:\\n')\n",
    "        for nombre, secuencias in rna_segmentos[filename].items():\n",
    "            f.write(f'\\t{nombre}:\\n\\t{\"\".join(secuencias)}\\n')\n",
    "\n",
    "contadores = {nombre: [] for nombre in segmentos.keys()}\n",
    "\n",
    "for filename, segs in rna_segmentos.items():\n",
    "    for nombre, secuencia in segs.items():\n",
    "        if not contadores[nombre]:\n",
    "            contadores[nombre] = [Counter() for _ in secuencia]\n",
    "        for i, base in enumerate(secuencia):\n",
    "            contadores[nombre][i][base] += 1\n",
    "\n",
    "secuencias_consenso = {nombre: ''.join(counter.most_common(1)[0][0] for counter in contadores_nombre) for nombre, contadores_nombre in contadores.items()}\n",
    "\n",
    "with open('consenso.txt', 'w') as f:\n",
    "    for nombre, secuencia in secuencias_consenso.items():\n",
    "        inicio, fin = segmentos[nombre]\n",
    "        f.write(f'{nombre} ({inicio},{fin}):\\n\\t{secuencia}\\n')"
   ]
  }
 ],
 "metadata": {
  "kernelspec": {
   "display_name": "Python 3",
   "language": "python",
   "name": "python3"
  },
  "language_info": {
   "codemirror_mode": {
    "name": "ipython",
    "version": 3
   },
   "file_extension": ".py",
   "mimetype": "text/x-python",
   "name": "python",
   "nbconvert_exporter": "python",
   "pygments_lexer": "ipython3",
   "version": "3.11.7"
  }
 },
 "nbformat": 4,
 "nbformat_minor": 2
}
